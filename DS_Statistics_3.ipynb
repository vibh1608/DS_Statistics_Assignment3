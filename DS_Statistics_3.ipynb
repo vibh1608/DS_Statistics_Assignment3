{
 "cells": [
  {
   "cell_type": "code",
   "execution_count": 18,
   "metadata": {},
   "outputs": [],
   "source": [
    "#importing math package\n",
    "import math"
   ]
  },
  {
   "cell_type": "code",
   "execution_count": 19,
   "metadata": {},
   "outputs": [
    {
     "name": "stdout",
     "output_type": "stream",
     "text": [
      "Z value is : 3.2\n",
      "By looking at z- table and p-value associated with 3.20 is 0.9993\n",
      "i.e. probability of having value less than 108 is 0.9993 and more than or equals to 108 is (1-0.9993)=0.0007.\n",
      "Since this probability is less than 0.05 so we will reject the Null hypothesis i.e. there is raw cornstarch effect.\n"
     ]
    }
   ],
   "source": [
    "#1.\n",
    "#Blood glucose levels for obese patients have a mean of 100 with a standard deviation of 15.\n",
    "#A researcher thinks that a diet high in raw cornstarch will have a positive effect on\n",
    "#blood glucose levels. A sample of 36 patients who have tried the raw cornstarch diet\n",
    "#have a mean glucose level of 108. Test the hypothesis that the raw cornstarch had an\n",
    "#effect or not.\n",
    "\n",
    "#this problem is related to concept of Null Hypothesis, In this first we assume the null hypothesis is true, \n",
    "#placing the burden on the researcher to conduct a study to show evidence that the null hypothesis is unlikely to be true.\n",
    "\n",
    "\n",
    "#The population mean is 100\n",
    "μ= 100\n",
    "z= (108-100)/(15/(math.sqrt(36)))\n",
    "print(\"Z value is : \"+str(z))\n",
    "\n",
    "print(\"By looking at z- table and p-value associated with 3.20 is 0.9993\")\n",
    "print(\"i.e. probability of having value less than 108 is 0.9993 and more than or equals to 108 is (1-0.9993)=0.0007.\")\n",
    "print(\"Since this probability is less than 0.05 so we will reject the Null hypothesis i.e. there is raw cornstarch effect.\")"
   ]
  },
  {
   "cell_type": "code",
   "execution_count": 20,
   "metadata": {},
   "outputs": [
    {
     "name": "stdout",
     "output_type": "stream",
     "text": [
      "-0.7080278164104213\n"
     ]
    }
   ],
   "source": [
    "#2.\n",
    "#In one state, 52% of the voters are Republicans, and 48% are Democrats. In a second\n",
    "#state, 47% of the voters are Republicans, and 53% are Democrats. Suppose a simple\n",
    "#random sample of 100 voters are surveyed from each state.\n",
    "#What is the probability that the survey will show a greater percentage of Republican\n",
    "#voters in the second state than in the first state?\n",
    "\n",
    "#p1 = the proportion of Republican voters in the first state.\n",
    "#p2 = the proportion of Republican voters in the second state.\n",
    "p1=0.52\n",
    "p2=0.47\n",
    "\n",
    "#mean of the difference in sample proportions\n",
    "E=p1-p2\n",
    "\n",
    "#n1 = the number of voters sampled from the first state \n",
    "#n2 = the number of voters sampled from the second state \n",
    "n1=100\n",
    "n2=100\n",
    "\n",
    "#standard deviation of the difference\n",
    "sigma = math.sqrt((p1*(1-p1))/n1+(p2*(1-p2))/n2)\n",
    "\n",
    "#z-score\n",
    "z= (0-E) /sigma\n",
    "\n",
    "print(z)\n",
    "#Using Stat Trek's Normal Distribution Calculator, we find that the probability of a z-score being -0.7082 or less is 0.24."
   ]
  },
  {
   "cell_type": "code",
   "execution_count": 21,
   "metadata": {},
   "outputs": [
    {
     "name": "stdout",
     "output_type": "stream",
     "text": [
      "The probability that the survey will show a greater percentage of \n",
      "        Republican voters in the second state than in the first state is 0.24.\n"
     ]
    }
   ],
   "source": [
    "print(\"\"\"The probability that the survey will show a greater percentage of \n",
    "        Republican voters in the second state than in the first state is 0.24.\"\"\")"
   ]
  },
  {
   "cell_type": "code",
   "execution_count": 22,
   "metadata": {},
   "outputs": [
    {
     "name": "stdout",
     "output_type": "stream",
     "text": [
      "A z-score of 0.35 is .1368 + .5000* = .6368 or 63.68%.\n",
      "Thus I scored better than 63.68% of the average test takers\n"
     ]
    }
   ],
   "source": [
    "#3.\n",
    "#You take the SAT and score 1100. The mean score for the SAT is 1026 and the standard\n",
    "#deviation is 209. How well did you score on the test compared to the average test taker?\n",
    "\n",
    "#observation(SAT score)\n",
    "X = 1100\n",
    "\n",
    "#mean\n",
    "x_bar = 1026\n",
    "\n",
    "#standard deviation\n",
    "std_dev = 209\n",
    "\n",
    "#z-score\n",
    "z = (X-x_bar)/std_dev\n",
    "\n",
    "#Looking up my z-value in the z-table to see what percentage of test-takers scored below me.\n",
    "#The z-table shown has scores for the RIGHT of the mean. Therefore, we have to add .500 for all of the area LEFT of the mean\n",
    "print(\"A z-score of \"+str(round(z,2)) + \" is .1368 + .5000* = .6368 or 63.68%.\")\n",
    "print(\"Thus I scored better than 63.68% of the average test takers\")\n"
   ]
  },
  {
   "cell_type": "code",
   "execution_count": null,
   "metadata": {},
   "outputs": [],
   "source": []
  }
 ],
 "metadata": {
  "kernelspec": {
   "display_name": "Python 3",
   "language": "python",
   "name": "python3"
  },
  "language_info": {
   "codemirror_mode": {
    "name": "ipython",
    "version": 3
   },
   "file_extension": ".py",
   "mimetype": "text/x-python",
   "name": "python",
   "nbconvert_exporter": "python",
   "pygments_lexer": "ipython3",
   "version": "3.7.0"
  }
 },
 "nbformat": 4,
 "nbformat_minor": 2
}
